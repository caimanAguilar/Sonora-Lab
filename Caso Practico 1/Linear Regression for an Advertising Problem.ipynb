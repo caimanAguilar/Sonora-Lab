{
 "cells": [
  {
   "cell_type": "markdown",
   "metadata": {},
   "source": [
    "Author: <a href=\"http://www.shugert.com.mx\">Samuel Noriega</a>"
   ]
  },
  {
   "cell_type": "markdown",
   "metadata": {},
   "source": [
    "# Linear Regression To Solve Advertising Problems\n",
    "\n",
    "The purpose of this tutorial is to get a clear idea on how a linear regression can be used to solve a marketing problem, such as selecting the right channels to advertise a product.\n",
    "\n",
    "This time, we will use Google's <a href=\"https://www.tensorflow.org/\">Tensorflow</a> on a <a href=\"https://www.docker.com/get-docker\">Docker</a> container. TensorFlow is an open-source software library for machine learning across a range of tasks. It is a system for building and training <a href=\"https://en.wikipedia.org/wiki/Artificial_neural_network\">neural networks</a> to detect and decipher patterns and correlations, analogous to (but not the same as) human learning and reasoning.\n",
    "\n",
    "# What is a Linear Regression?\n",
    "\n",
    "A linear regression model is one of the simplest regression models. It assumes linear relationship between $X$ and $Y$. The output equation is defined as follows:\n",
    "\n",
    "$$\\hat{y} = WX + b$$\n",
    "\n",
    "\n",
    "# Our Advertising Dataset\n",
    "\n",
    "The Advertising data set we are going to use is from \"<a href=\"http://www-bcf.usc.edu/~gareth/ISL/getbook.html\">An Introduction to Statistical Learning</a>\", textbook by Gareth James, Robert Tibshirani, and Trevor Hastie, which consists of the sales of a product in 200 different markets, along with advertising budgets for the product in each of those markets for three different media: **TV, radio, and newspaper**.\n",
    "\n",
    "\n",
    "# Our Objetive\n",
    "\n",
    "By training an **inference model**, a series of mathematical expressions we want to apply to our data that depends on a series of parameters. The values of parameters change through training in order for the model to learn and adjust its output.\n",
    "\n",
    "The training loop consists in the following steps:\n",
    "+ First, we need to initialize the model parameters to some random values.\n",
    "+ Second, we need to read the training data -for each example, and possibly using randomization strategies in order to assure that training is stochastic.\n",
    "+ Third, we need to execute the inference model on the training data, getting for each training example the model output with the parameter values. \n",
    "+ Four, we compute the loss.\n",
    "+ And last, we adjuts the model parameters.\n",
    "\n",
    "We need to repeat this process several times, according to the learning rate. After the training of the model is done we need to apply an evaluation phase. "
   ]
  },
  {
   "cell_type": "markdown",
   "metadata": {},
   "source": [
    "# Reading the data\n",
    "\n",
    "The first thing we need to do is load our dataset and define our training set."
   ]
  },
  {
   "cell_type": "code",
   "execution_count": 9,
   "metadata": {
    "collapsed": false
   },
   "outputs": [
    {
     "data": {
      "text/html": [
       "<div>\n",
       "<table border=\"1\" class=\"dataframe\">\n",
       "  <thead>\n",
       "    <tr style=\"text-align: right;\">\n",
       "      <th></th>\n",
       "      <th>TV</th>\n",
       "      <th>Radio</th>\n",
       "      <th>Newspaper</th>\n",
       "      <th>Sales</th>\n",
       "    </tr>\n",
       "  </thead>\n",
       "  <tbody>\n",
       "    <tr>\n",
       "      <th>1</th>\n",
       "      <td>230.1</td>\n",
       "      <td>37.8</td>\n",
       "      <td>69.2</td>\n",
       "      <td>22.1</td>\n",
       "    </tr>\n",
       "    <tr>\n",
       "      <th>2</th>\n",
       "      <td>44.5</td>\n",
       "      <td>39.3</td>\n",
       "      <td>45.1</td>\n",
       "      <td>10.4</td>\n",
       "    </tr>\n",
       "    <tr>\n",
       "      <th>3</th>\n",
       "      <td>17.2</td>\n",
       "      <td>45.9</td>\n",
       "      <td>69.3</td>\n",
       "      <td>9.3</td>\n",
       "    </tr>\n",
       "    <tr>\n",
       "      <th>4</th>\n",
       "      <td>151.5</td>\n",
       "      <td>41.3</td>\n",
       "      <td>58.5</td>\n",
       "      <td>18.5</td>\n",
       "    </tr>\n",
       "    <tr>\n",
       "      <th>5</th>\n",
       "      <td>180.8</td>\n",
       "      <td>10.8</td>\n",
       "      <td>58.4</td>\n",
       "      <td>12.9</td>\n",
       "    </tr>\n",
       "  </tbody>\n",
       "</table>\n",
       "</div>"
      ],
      "text/plain": [
       "      TV  Radio  Newspaper  Sales\n",
       "1  230.1   37.8       69.2   22.1\n",
       "2   44.5   39.3       45.1   10.4\n",
       "3   17.2   45.9       69.3    9.3\n",
       "4  151.5   41.3       58.5   18.5\n",
       "5  180.8   10.8       58.4   12.9"
      ]
     },
     "execution_count": 9,
     "metadata": {},
     "output_type": "execute_result"
    }
   ],
   "source": [
    "# load libraries\n",
    "import warnings; warnings.simplefilter('ignore')\n",
    "import numpy as np\n",
    "import matplotlib.pyplot as plt\n",
    "import pandas as pd\n",
    "import seaborn as sns\n",
    "%matplotlib inline\n",
    "\n",
    "# Load data.\n",
    "data = pd.read_csv('data/Advertising.csv',index_col=0)\n",
    "\n",
    "# visualize our data set\n",
    "data.head(5)"
   ]
  },
  {
   "cell_type": "code",
   "execution_count": 10,
   "metadata": {
    "collapsed": false
   },
   "outputs": [
    {
     "name": "stdout",
     "output_type": "stream",
     "text": [
      "Number of samples: 200\n",
      "(200, 1) (200, 1)\n"
     ]
    }
   ],
   "source": [
    "# Define our train dataset\n",
    "train_X = data[['Radio']].values \n",
    "train_Y = data.Sales.values \n",
    "train_Y = train_Y[:,np.newaxis]\n",
    "n_samples = train_X.shape[0]\n",
    "\n",
    "#print training samples for Radio values\n",
    "print \"Number of samples:\", n_samples\n",
    "print train_X.shape, train_Y.shape"
   ]
  },
  {
   "cell_type": "markdown",
   "metadata": {},
   "source": [
    "## Let's now visualize our data set\n",
    "\n",
    "### Radio investment"
   ]
  },
  {
   "cell_type": "code",
   "execution_count": 11,
   "metadata": {
    "collapsed": false
   },
   "outputs": [
    {
     "data": {
      "image/png": "[encoded data removed]",
      "text/plain": [
       "<matplotlib.figure.Figure at 0x7f77fc173610>"
      ]
     },
     "metadata": {},
     "output_type": "display_data"
    }
   ],
   "source": [
    "# visualize our results\n",
    "fig, ax = plt.subplots(1, 1)\n",
    "ax.set_ylabel('Results',\n",
    "              rotation=0,\n",
    "              ha='right', # horizontal alignment\n",
    "              ma='left', # multiline alignment\n",
    "             )\n",
    "ax.set_xlabel('Radio')\n",
    "ax.plot(train_X, train_Y, 'o', color=sns.xkcd_rgb['pale red'], alpha=0.7,label='Original data')\n",
    "plt.show()"
   ]
  },
  {
   "cell_type": "code",
   "execution_count": 12,
   "metadata": {
    "collapsed": false
   },
   "outputs": [
    {
     "name": "stdout",
     "output_type": "stream",
     "text": [
      "\n",
      "Optimization Finished!\n",
      "cost= 9.0462 W= 0.202496 b= 9.31163\n"
     ]
    },
    {
     "data": {
      "image/png": "[encoded data removed]",
      "text/plain": [
       "<matplotlib.figure.Figure at 0x7f7809425610>"
      ]
     },
     "metadata": {},
     "output_type": "display_data"
    },
    {
     "data": {
      "image/png": "[encoded data removed]",
      "text/plain": [
       "<matplotlib.figure.Figure at 0x7f77fc1a3490>"
      ]
     },
     "metadata": {},
     "output_type": "display_data"
    },
    {
     "name": "stdout",
     "output_type": "stream",
     "text": [
      "9.0462\n"
     ]
    }
   ],
   "source": [
    "# import tensor flow library\n",
    "import tensorflow as tf\n",
    "\n",
    "# problem: Solve  ŷ = WX + b\n",
    "\n",
    "tf.reset_default_graph()\n",
    "\n",
    "# Set up our training parameters\n",
    "# ------------------------------\n",
    "# learning rate\n",
    "lr = 0.01\n",
    "# training epochs\n",
    "t_epochs = 10000\n",
    "\n",
    "# Define TensorFlow Graph Inputs\n",
    "X = tf.placeholder(\"float\",[None,1])\n",
    "y = tf.placeholder(\"float\",[None,1])\n",
    "\n",
    "# Create model variables \n",
    "# ----------------------\n",
    "# Set model weights\n",
    "W = tf.Variable(np.random.randn(), name=\"weight\")\n",
    "b = tf.Variable(np.random.randn(), name=\"bias\")\n",
    "\n",
    "# Construct a linear model\n",
    "y_pred = tf.add(tf.mul(X, W), b)\n",
    "\n",
    "# Minimize the squared errors\n",
    "# we will use L2 loss\n",
    "cost = tf.reduce_sum(tf.pow(y_pred - y,2))/(2*n_samples) \n",
    "\n",
    "# Define the optimizer\n",
    "'''Adam is an optimization algorithm that can used instead of the classical \n",
    "   stochastic gradient descent procedure to update network weights iterative \n",
    "   based in training data.'''\n",
    "optimizer = tf.train.AdamOptimizer(lr).minimize(cost) \n",
    "\n",
    "# Initiate the variables\n",
    "init = tf.initialize_all_variables()\n",
    "\n",
    "# Launch the graph\n",
    "with tf.Session() as sess:\n",
    "    sess.run(init)\n",
    "    cost_plot = []\n",
    "    # Fit all training data\n",
    "    for epoch in range(t_epochs):\n",
    "        sess.run(optimizer, \n",
    "                 feed_dict={X: train_X, y: train_Y})       \n",
    "        cost_plot.append(sess.run(cost, \n",
    "                                  feed_dict={X: train_X, y:train_Y}))\n",
    "                \n",
    "    print \"\"\n",
    "    print \"Optimization Finished!\"\n",
    "    print \"cost=\", sess.run(cost, \n",
    "                            feed_dict={X: train_X, y: train_Y}), \"W=\", sess.run(W), \"b=\", sess.run(b)\n",
    "    \n",
    "    fig, ax = plt.subplots(1, 1)\n",
    "    ax.set_ylabel('Results',\n",
    "              rotation=0,\n",
    "              ha='right', # horizontal alignment\n",
    "              ma='left', # multiline alignment\n",
    "             )\n",
    "    ax.set_xlabel('Radio')\n",
    "    ax.plot(train_X, \n",
    "            train_Y, 'o', \n",
    "            color=sns.xkcd_rgb['pale red'], \n",
    "            alpha=0.7,label='Original data')\n",
    "    plt.plot(train_X, \n",
    "             sess.run(W) * train_X + sess.run(b), \n",
    "             label='Fitted line')\n",
    "    plt.show()\n",
    "    \n",
    "    x = range(len(cost_plot))\n",
    "    plt.plot(x,  np.sqrt(cost_plot))\n",
    "    plt.show()\n",
    "    print cost_plot[-1]"
   ]
  },
  {
   "cell_type": "markdown",
   "metadata": {},
   "source": [
    "# Let's try it now with all 3 variables, Radio, Tv and Newspaper.\n",
    "\n",
    "Using all 3 values as input, it becomes a multiple linear regression problem, but the process is similar."
   ]
  },
  {
   "cell_type": "code",
   "execution_count": 14,
   "metadata": {
    "collapsed": false
   },
   "outputs": [
    {
     "name": "stdout",
     "output_type": "stream",
     "text": [
      "Number of samples: 200\n",
      "(200, 3) (200, 1)\n"
     ]
    }
   ],
   "source": [
    "# reset our graph to work with the new data\n",
    "tf.reset_default_graph()\n",
    "\n",
    "# We read our data set\n",
    "data = pd.read_csv('data/Advertising.csv',index_col=0)\n",
    "\n",
    "# Set up our training parameters\n",
    "# ------------------------------\n",
    "# learning rate\n",
    "lr = 0.01\n",
    "# training epochs\n",
    "t_epochs = 10000\n",
    "\n",
    "# Define our train dataset\n",
    "# ------------------------\n",
    "# we set all our variables as input vectors\n",
    "train_X = data[['TV','Radio','Newspaper']].values\n",
    "train_Y = data.Sales.values \n",
    "train_Y = train_Y[:,np.newaxis]\n",
    "n_samples = train_X.shape[0]\n",
    "\n",
    "# Print our samples \n",
    "print \"Number of samples:\", n_samples\n",
    "print train_X.shape, train_Y.shape"
   ]
  },
  {
   "cell_type": "code",
   "execution_count": 15,
   "metadata": {
    "collapsed": false
   },
   "outputs": [
    {
     "name": "stdout",
     "output_type": "stream",
     "text": [
      "Epoch:  0001 \n",
      " Cost=  71.7345 \n",
      " W=  [[ 0.01]\n",
      " [ 0.01]\n",
      " [ 0.01]] \n",
      " b=  0.882848 \n",
      "\n",
      "Epoch:  1001 \n",
      " Cost=  1.40955 \n",
      " W=  [[ 0.04709739]\n",
      " [ 0.19420089]\n",
      " [ 0.00192513]] \n",
      " b=  2.44942 \n",
      "\n",
      "Epoch:  2001 \n",
      " Cost=  1.39208 \n",
      " W=  [[ 0.04581039]\n",
      " [ 0.18872467]\n",
      " [-0.0009358 ]] \n",
      " b=  2.92209 \n",
      "\n",
      "Epoch:  3001 \n",
      " Cost=  1.39206 \n",
      " W=  [[ 0.04576474]\n",
      " [ 0.18853043]\n",
      " [-0.00103728]] \n",
      " b=  2.93885 \n",
      "\n",
      "Epoch:  4001 \n",
      " Cost=  1.39206 \n",
      " W=  [[ 0.04576467]\n",
      " [ 0.18853015]\n",
      " [-0.00103745]] \n",
      " b=  2.93888 \n",
      "\n",
      "Epoch:  5001 \n",
      " Cost=  1.39206 \n",
      " W=  [[ 0.04576465]\n",
      " [ 0.18853007]\n",
      " [-0.00103748]] \n",
      " b=  2.93888 \n",
      "\n",
      "Epoch:  6001 \n",
      " Cost=  1.39206 \n",
      " W=  [[ 0.04576468]\n",
      " [ 0.18853006]\n",
      " [-0.00103746]] \n",
      " b=  2.93889 \n",
      "\n",
      "Epoch:  7001 \n",
      " Cost=  1.39219 \n",
      " W=  [[ 0.04569313]\n",
      " [ 0.18845937]\n",
      " [-0.00110896]] \n",
      " b=  2.93882 \n",
      "\n",
      "Epoch:  8001 \n",
      " Cost=  1.39206 \n",
      " W=  [[ 0.04576509]\n",
      " [ 0.18853047]\n",
      " [-0.00103706]] \n",
      " b=  2.93889 \n",
      "\n",
      "Epoch:  9001 \n",
      " Cost=  1.39207 \n",
      " W=  [[ 0.04575393]\n",
      " [ 0.18851933]\n",
      " [-0.00104821]] \n",
      " b=  2.93888 \n",
      "\n",
      "\n",
      "Optimization Finished!\n",
      "cost= 1.39206 W= [[ 0.04576323]\n",
      " [ 0.18852861]\n",
      " [-0.0010389 ]] b= 2.93889\n"
     ]
    }
   ],
   "source": [
    "# Define TensorFlow Graph Inputs\n",
    "# ------------------------------\n",
    "# we need to change our dimensions since we now have 3 inputs\n",
    "X = tf.placeholder(\"float\",[None,3])\n",
    "y = tf.placeholder(\"float\",[None,1])\n",
    "\n",
    "# Create model variables \n",
    "# ----------------------\n",
    "# Set model weights\n",
    "# our W changes due to our new dimension\n",
    "W = tf.Variable(tf.zeros([3, 1]),name=\"bias\")\n",
    "b = tf.Variable(np.random.randn(), name=\"bias\")\n",
    "\n",
    "# Construct a multidimensional linear model\n",
    "y_pred = tf.matmul(X, W) + b\n",
    "\n",
    "# Minimize the squared errors\n",
    "# we will use L2 loss\n",
    "cost = tf.reduce_sum(tf.pow(y_pred - y,2))/(2*n_samples) \n",
    "\n",
    "# Define the optimizer\n",
    "'''Adam is an optimization algorithm that can used instead of the classical \n",
    "   stochastic gradient descent procedure to update network weights iterative \n",
    "   based in training data.'''\n",
    "optimizer = tf.train.AdamOptimizer(lr).minimize(cost) \n",
    "\n",
    "# Initiate the variables\n",
    "init = tf.initialize_all_variables()\n",
    "\n",
    "# Set up a display step for epoch log visualization\n",
    "display_step = 1000\n",
    "\n",
    "# Launch the graph\n",
    "with tf.Session() as sess:\n",
    "    sess.run(init)\n",
    "    cost_plot = []\n",
    "    # Fit all training data\n",
    "    for epoch in range(t_epochs):\n",
    "        sess.run(optimizer, \n",
    "                 feed_dict={X: train_X, y: train_Y})       \n",
    "        cost_plot.append(sess.run(cost, \n",
    "                                  feed_dict={X: train_X, y:train_Y}))\n",
    "        #Display logs per epoch step\n",
    "        if epoch % display_step == 0:\n",
    "            print \"Epoch: \", '%04d' % (epoch+1), \"\\n Cost= \", sess.run(cost, feed_dict={X: train_X, y: train_Y}), \\\n",
    "          \"\\n W= \", sess.run(W), \"\\n b= \", sess.run(b), \"\\n\"\n",
    "                \n",
    "    print \"\"\n",
    "    print \"Optimization Finished!\"\n",
    "    print \"cost=\", sess.run(cost, \n",
    "                            feed_dict={X: train_X, y: train_Y}), \"W=\", sess.run(W), \"b=\", sess.run(b)"
   ]
  },
  {
   "cell_type": "code",
   "execution_count": null,
   "metadata": {
    "collapsed": true
   },
   "outputs": [],
   "source": []
  }
 ],
 "metadata": {
  "anaconda-cloud": {},
  "kernelspec": {
   "display_name": "Python 2",
   "language": "python",
   "name": "python2"
  },
  "language_info": {
   "codemirror_mode": {
    "name": "ipython",
    "version": 2
   },
   "file_extension": ".py",
   "mimetype": "text/x-python",
   "name": "python",
   "nbconvert_exporter": "python",
   "pygments_lexer": "ipython2",
   "version": "2.7.6"
  }
 },
 "nbformat": 4,
 "nbformat_minor": 2
}
